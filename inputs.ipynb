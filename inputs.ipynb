{
 "cells": [
  {
   "cell_type": "code",
   "execution_count": 6,
   "id": "7fae48b1",
   "metadata": {},
   "outputs": [],
   "source": [
    "import numpy as np\n",
    "import emcee\n",
    "import matplotlib.pyplot as plt"
   ]
  },
  {
   "cell_type": "code",
   "execution_count": 75,
   "id": "40e8f33a",
   "metadata": {},
   "outputs": [],
   "source": [
    "class Inputs_Wrapper():\n",
    "\t# maybe: add a boolean list that toggles the sampling pf each parameter\n",
    "\tdef __init__(self, parnames, pars, prior_bounds, model, data, x):\n",
    "\t\tself.npars = len(parnames)\n",
    "\t\tself.params = parnames\n",
    "\t\tself.prior_bounds = prior_bounds\n",
    "\t\tself.model = model\n",
    "\t\tself.data = data\n",
    "\t\tself.p0 = pars\n",
    "\t\tself.pars = pars\n",
    "\t\tself.x = x\n",
    "\tdef logPrior(self):\n",
    "\t\tlogP = 0\n",
    "\t\tfor i in range(self.npars):\n",
    "\t\t\tif (self.pars[i] < self.prior_bounds[i][0]) | (self.pars[i] > self.prior_bounds[i][1]):\n",
    "\t\t\t\tlogP = -np.inf\n",
    "\t\treturn logP\n",
    "\tdef logLikelihood(self):\n",
    "\t\ty0 = self.model(self.pars, self.x)\n",
    "\t\tchi2 = np.sum((y0 - self.data)**2)\n",
    "\t\treturn -np.log(chi2/2)\n",
    "\tdef logPosterior(self):\n",
    "\t\treturn self.logPrior() + self.logLikelihood()\n",
    "\tdef run(self, nwalkers, nsteps):\n",
    "\t\treturn 0"
   ]
  },
  {
   "cell_type": "code",
   "execution_count": 52,
   "id": "da92d8dc",
   "metadata": {},
   "outputs": [],
   "source": [
    "parnames = ['a','b','c']\n",
    "prior_bounds = [[-10,10],[-10, 10],[-10,10]]\n",
    "p0 = [1,1,1]\n",
    "def testmodel(pars,x):\n",
    "    a, b, c = pars\n",
    "    return a*x**2 + b*x + c"
   ]
  },
  {
   "cell_type": "code",
   "execution_count": 72,
   "id": "cc03cb21",
   "metadata": {},
   "outputs": [],
   "source": [
    "x = np.linspace(-5,5)\n",
    "testdata = testmodel([1,1,1], x) + 2*np.random.rand(len(x))"
   ]
  },
  {
   "cell_type": "code",
   "execution_count": 73,
   "id": "ed0719c5",
   "metadata": {},
   "outputs": [
    {
     "data": {
      "text/plain": [
       "0"
      ]
     },
     "execution_count": 73,
     "metadata": {},
     "output_type": "execute_result"
    }
   ],
   "source": [
    "object = Inputs_Wrapper(parnames, p0, prior_bounds, testmodel, testdata, x)\n",
    "object.logPrior()"
   ]
  },
  {
   "cell_type": "code",
   "execution_count": 74,
   "id": "b9430338",
   "metadata": {},
   "outputs": [
    {
     "data": {
      "text/plain": [
       "np.float64(-3.59256647581933)"
      ]
     },
     "execution_count": 74,
     "metadata": {},
     "output_type": "execute_result"
    }
   ],
   "source": [
    "object.logPosterior()"
   ]
  },
  {
   "cell_type": "code",
   "execution_count": 61,
   "id": "83d24dda",
   "metadata": {},
   "outputs": [
    {
     "data": {
      "text/plain": [
       "array([21.        , 19.20491462, 17.49312786, 15.86463973, 14.31945023,\n",
       "       12.85755935, 11.4789671 , 10.18367347,  8.97167847,  7.84298209,\n",
       "        6.79758434,  5.83548521,  4.95668471,  4.16118284,  3.44897959,\n",
       "        2.82007497,  2.27446897,  1.8121616 ,  1.43315285,  1.13744273,\n",
       "        0.92503124,  0.79591837,  0.75010412,  0.7875885 ,  0.90837151,\n",
       "        1.11245314,  1.3998334 ,  1.77051229,  2.2244898 ,  2.76176593,\n",
       "        3.38234069,  4.08621408,  4.87338609,  5.74385673,  6.69762599,\n",
       "        7.73469388,  8.85506039, 10.05872553, 11.3456893 , 12.71595169,\n",
       "       14.1695127 , 15.70637234, 17.32653061, 19.02998751, 20.81674302,\n",
       "       22.68679717, 24.64014994, 26.67680133, 28.79675135, 31.        ])"
      ]
     },
     "execution_count": 61,
     "metadata": {},
     "output_type": "execute_result"
    }
   ],
   "source": [
    "object.model([1,1,1], x)"
   ]
  },
  {
   "cell_type": "code",
   "execution_count": 62,
   "id": "0b007fd5",
   "metadata": {},
   "outputs": [
    {
     "data": {
      "text/plain": [
       "[<matplotlib.lines.Line2D at 0x16f3424a0>]"
      ]
     },
     "execution_count": 62,
     "metadata": {},
     "output_type": "execute_result"
    },
    {
     "data": {
      "image/png": "[encoded data removed]",
      "text/plain": [
       "<Figure size 640x480 with 1 Axes>"
      ]
     },
     "metadata": {},
     "output_type": "display_data"
    }
   ],
   "source": [
    "plt.plot(x, testdata)\n"
   ]
  },
  {
   "cell_type": "code",
   "execution_count": null,
   "id": "600095f1",
   "metadata": {},
   "outputs": [],
   "source": []
  }
 ],
 "metadata": {
  "kernelspec": {
   "display_name": "codeastro",
   "language": "python",
   "name": "python3"
  },
  "language_info": {
   "codemirror_mode": {
    "name": "ipython",
    "version": 3
   },
   "file_extension": ".py",
   "mimetype": "text/x-python",
   "name": "python",
   "nbconvert_exporter": "python",
   "pygments_lexer": "ipython3",
   "version": "3.10.18"
  }
 },
 "nbformat": 4,
 "nbformat_minor": 5
}
